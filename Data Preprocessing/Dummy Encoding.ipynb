{
 "cells": [
  {
   "cell_type": "markdown",
   "metadata": {},
   "source": [
    "# Dummy Encoding\n",
    "\n",
    "When storing categorial values such as __France__, __Germany__, and __Spain__, the values can't be stored as 1, 2, and 3. This is because the machine learning algorithms will treat the value 3 as a greater value than 1 and 2, causing errors within the algorithm. Instead, they must be stored in column format with 1 indicating the presence of the value and 0 indicating it isn't present. This way, the values are equal and independent.\n",
    "\n",
    "<img src=\"dummyEncoding.png\" alt=\"Dummy Encoding\" style=\"width: 800px;\"/>\n"
   ]
  },
  {
   "cell_type": "markdown",
   "metadata": {},
   "source": [
    "<hr>\n",
    "\n",
    "## The Dummy Variable Trap\n",
    "\n",
    "<img src=\"dummyVariableTrap.png\" alt=\"Dummy Variable Trap\" style=\"width: 700px;\"/>\n",
    "\n",
    "When using qualitative data, the data must be turned into dummy variables. The problem here is that the California column can be easily predicted from the New York column _(multicollinearity)_. After all...\n",
    "\n",
    "$$\\LARGE b_5 = 1 - b_4$$\n",
    "\n",
    "This can easily be fixed by removing one of the dummy variables from a independent variable dataset. All the coefficients for  California will just be included in the $b_0$ constant. So then how does the algorithm differentiate between the constant and other dummy variables? Simply put, $b_4$ will not just be the coefficient for New York; it will be the coefficient for the difference between New York and California. \n",
    "<hr>\n",
    "\n",
    "## Code"
   ]
  },
  {
   "cell_type": "code",
   "execution_count": 5,
   "metadata": {
    "scrolled": true
   },
   "outputs": [
    {
     "data": {
      "text/plain": [
       "array([[0.0, 0.0, 44.0, 72000.0],\n",
       "       [0.0, 1.0, 27.0, 48000.0],\n",
       "       [1.0, 0.0, 30.0, 54000.0],\n",
       "       [0.0, 1.0, 38.0, 61000.0],\n",
       "       [1.0, 0.0, 40.0, 63777.77777777778],\n",
       "       [0.0, 0.0, 35.0, 58000.0],\n",
       "       [0.0, 1.0, 38.77777777777778, 52000.0],\n",
       "       [0.0, 0.0, 48.0, 79000.0],\n",
       "       [1.0, 0.0, 50.0, 83000.0],\n",
       "       [0.0, 0.0, 37.0, 67000.0]], dtype=object)"
      ]
     },
     "execution_count": 5,
     "metadata": {},
     "output_type": "execute_result"
    }
   ],
   "source": [
    "# Encoding Categorical Data\n",
    "from sklearn.compose import ColumnTransformer\n",
    "from sklearn.preprocessing import OneHotEncoder\n",
    "\n",
    "ct = ColumnTransformer([('one-hot-encoder', OneHotEncoder(categories = 'auto'), [0])], remainder='passthrough')\n",
    "X = ct.fit_transform(X)\n",
    "\n",
    "# Preventing the Dummy Variable Trap \n",
    "X = X[:, 1:]\n",
    "\n",
    "X"
   ]
  },
  {
   "cell_type": "markdown",
   "metadata": {},
   "source": [
    "Unlike the _X[0]_ column that dealt with 3 categories, the _y_ column only deals with 2 categories that can be represented as values 0 or 1. The _LabelEncoder_ is a more fitting choice than the _OneHotEncoder_ as it deals with this exact situation."
   ]
  },
  {
   "cell_type": "code",
   "execution_count": 6,
   "metadata": {},
   "outputs": [
    {
     "data": {
      "text/plain": [
       "array([0, 1, 0, 0, 1, 1, 0, 1, 0, 1])"
      ]
     },
     "execution_count": 6,
     "metadata": {},
     "output_type": "execute_result"
    }
   ],
   "source": [
    "## Dummy Encoding - 2 Categories\n",
    "from sklearn.preprocessing import LabelEncoder\n",
    "y = LabelEncoder().fit_transform(y)\n",
    "\n",
    "y"
   ]
  }
 ],
 "metadata": {
  "kernelspec": {
   "display_name": "Python 3",
   "language": "python",
   "name": "python3"
  },
  "language_info": {
   "codemirror_mode": {
    "name": "ipython",
    "version": 3
   },
   "file_extension": ".py",
   "mimetype": "text/x-python",
   "name": "python",
   "nbconvert_exporter": "python",
   "pygments_lexer": "ipython3",
   "version": "3.7.7"
  }
 },
 "nbformat": 4,
 "nbformat_minor": 4
}
