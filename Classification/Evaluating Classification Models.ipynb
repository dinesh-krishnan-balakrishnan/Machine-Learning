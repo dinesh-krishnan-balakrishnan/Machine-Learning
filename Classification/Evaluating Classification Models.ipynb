{
 "cells": [
  {
   "cell_type": "markdown",
   "metadata": {},
   "source": [
    "# Evaluating Classification Model Performance\n",
    "\n",
    "## False Positives & Negatives\n",
    "\n",
    "<img src=\"falseErrors.png\" alt=\"False Positive & False Negative Prediction\" width=\"700px;\"/>\n",
    "\n",
    "* __False Positive (Type I Error):__ A prediction that indicates that something is true, while in reality it is false. \n",
    "* __False Negative (Type II Error):__ A prediction that indicates that something is false, while in reality it is true.\n",
    "\n",
    "<hr>\n",
    "\n",
    "## Confusion Matrix\n",
    "\n",
    "<img src=\"confussionMatrix.png\" alt=\"Confussion Matrix\" width=\"700px;\"/>\n",
    "\n",
    "<hr>\n",
    "\n",
    "## Accuracy Paradox\n",
    "\n",
    "<img src=\"accuracyParadox.png\" alt=\"Example of the Accuracy Paradox\" width=\"700px;\"/>\n",
    "\n",
    "__Initial Confussion Matrix:__\n",
    "<br> \\[&nbsp;9,700&nbsp;\\] \\[&nbsp;&nbsp;150&nbsp;&nbsp;\\]\n",
    "<br> \\[&nbsp;&nbsp;&nbsp;&nbsp;50&nbsp;&nbsp;&nbsp;\\] \\[&nbsp;&nbsp;100&nbsp;&nbsp;\\]\n",
    "\n",
    "\n",
    "The accuracy paradox shows that moving all the values of the confussion matrix to the left of the matrix and abandoning all requirement of the model produces a higher accuracy rate. This is why the general formula for accuracy isn't practical. The solution to this is using the CAP curve.\n",
    "\n",
    "<hr>\n",
    "\n",
    "## Cumulative Accuracy Profile Curve (CAP Curve)\n",
    "\n",
    "### The Curve\n",
    "\n",
    "<img src=\"capModel.png\" alt=\"CAP Curve\" width=\"700px;\"/>\n",
    "\n",
    "The CAP curve is best learnt using a scenario. Let's say a company is looking for customers to buy its product, and previous data has shown that about 10% of customers usually buy the product. Based on this prior information, it is possible to analyze the lines:\n",
    "\n",
    "__Line Result:__\n",
    "\n",
    "* __Blue:__ Random datapoints. Out of the total customers, 10% will buy the product. This is the normal situation. \n",
    "* __Green:__ A poor model that will help find customers who are more likely to purchase the company's product. If 50% of people are contacted, more people will more likely purchase the product than just selecting random customers.\n",
    "* __Red:__ A good model. Even more people are likely to purchase the product out of the total % contacted.\n",
    "* __Black:__ Referred to as the crystal ball, because every single customer contacted first will be of the 10% who will buy the product.\n",
    "\n",
    "### Analyzing Effectiveness\n",
    "\n",
    "In fact, a CAP curve can be analyzed by using a certain % of the total independent values.\n",
    "\n",
    "<img src=\"analyzingCAP.png\" alt=\"Analyzing CAP Results\" width=\"700px;\"/>\n",
    "\n",
    "As seen in the above image, the 50% mark is chosen to evaluate the red line. At the 50% mark, about 90% of the customers who would purchase the model have been contacted. This is a very good model, but might be overfitting a bit. Models in the _Too Good_ category usually may account for specific outliers and may not bode well over time.\n",
    "\n",
    "<img src=\"combo.png\" alt=\"Analyzing CAP Results Formally\" width=\"1000px;\"/>\n",
    "\n",
    "The more formal method to analyze the model is to get the ratio of the area of the model being analyzed to the area of the perfect model. The higher the ratio, the better the model is; the model can be analyzed using the same % values as the informal method. The model is also more consistent than the informal one because the % mark at which the model has to be analyzed doesn't have to be chosen.\n"
   ]
  }
 ],
 "metadata": {
  "kernelspec": {
   "display_name": "Python 3",
   "language": "python",
   "name": "python3"
  },
  "language_info": {
   "codemirror_mode": {
    "name": "ipython",
    "version": 3
   },
   "file_extension": ".py",
   "mimetype": "text/x-python",
   "name": "python",
   "nbconvert_exporter": "python",
   "pygments_lexer": "ipython3",
   "version": "3.7.6"
  }
 },
 "nbformat": 4,
 "nbformat_minor": 2
}
