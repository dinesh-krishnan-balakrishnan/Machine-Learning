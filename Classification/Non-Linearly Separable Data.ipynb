{
 "cells": [
  {
   "cell_type": "markdown",
   "metadata": {},
   "source": [
    "# Mapping to a Higher Dimension\n",
    "\n",
    "An example of non-linearly separable data would be as shown:\n",
    "\n",
    "<img src=\"start.png\" width=\"700px\" alt=\"1D Non-Separable Data\"/>\n",
    "\n",
    "A single, straight line cannot separate the dataset. Instead, this 1D data will be mapped to 2D space through the use of a function. The results from the function can then be linearly separated.\n",
    "\n",
    "<img src=\"end.png\" width=\"700px\" alt=\"1D Mapped Data\"/>\n",
    "\n",
    "The data can then be projected back to its original position and the data can be classified based on the numerical result of the created function. This concept can be applied to any dimension, as shown:\n",
    "\n",
    "<img src=\"2Dstart.png\" width=\"700px\" alt=\"2D Non-Separable Data Being Mapped\"/>\n",
    "\n",
    "<img src=\"2Dend.png\" width=\"700px\" alt=\"Mapped Data Being Projected\"/>\n",
    "\n",
    "While mapping the data to a higher dimension does solve the problem of not being able to map non-linearly separable data, there is a big problem with this method: it is very compute-expensive. The computer has to make many calculations to create a function that properly maps the data. Once mapped, the computer also has to project the results back onto the original dataset. This is where the __Kernel Trick__ comes into play.\n",
    "\n",
    "<hr>\n",
    "\n",
    "# The Kernel Trick\n",
    "\n",
    "The **Kernel Trick**, as the name implies, uses a _kernel_ to map a dataset. A *kernel* is a predefined function. Once a datapoint is passed through a *kernel function*, its resulting value will determine its classification. There are many types of kernels, a few being shown here:\n",
    "\n",
    "<img src=\"kernels.png\" width=\"700px\" alt=\"Types of Kernels\"/>"
   ]
  }
 ],
 "metadata": {
  "kernelspec": {
   "display_name": "Python 3",
   "language": "python",
   "name": "python3"
  },
  "language_info": {
   "codemirror_mode": {
    "name": "ipython",
    "version": 3
   },
   "file_extension": ".py",
   "mimetype": "text/x-python",
   "name": "python",
   "nbconvert_exporter": "python",
   "pygments_lexer": "ipython3",
   "version": "3.7.6"
  }
 },
 "nbformat": 4,
 "nbformat_minor": 2
}
