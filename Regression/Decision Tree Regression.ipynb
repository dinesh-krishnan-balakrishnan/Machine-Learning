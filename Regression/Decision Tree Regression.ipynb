{
 "cells": [
  {
   "cell_type": "markdown",
   "metadata": {},
   "source": [
    "## Decision Tree Regression\n",
    "\n",
    "There is an overarching concept called **CART**, which stands for __Classification and Regression Trees__. Using this concept, it is possible to create regression based on a decision tree. This can be demonstrated with the following graph:\n",
    "\n",
    "<img src=\"split.png\" alt=\"Split data points.\" style=\"width: 700px;\"/>\n",
    "\n",
    "As seen from this graph, there are $x_1$ and $x_2$ values, used for ease of demonstration. The decision tree can also be created from just a single variable. The y-value cannot be seen as it would be located in the 3<sup>rd</sup> dimension due to the nature of graphs. Using a complex mathematical concept called **Information Entropy**, the graph is split into sections of information called *leaves*. Essentially, it determines whether making a split at a certain location would provide more *information* about the dataset and uses this decision to split the dataset into groups. The final leaves present after all splits have been performed are called *terminal leaves*.\n",
    "\n",
    "<img src=\"averages.png\" alt=\"Averages of Terminal Leaves\" style=\"width: 700px;\"/>\n",
    "\n",
    "After the splits have been made, each *terminal leaf* contains its own set of datapoints. Each *terminal leaf* is then assigned an overall value, which is the average of its datapoints' y-values.\n",
    "\n",
    "<img src=\"tree.png\" alt=\"Decision tree.\" style=\"width: 700px;\"/>\n",
    "\n",
    "The entire process of splitting the graph can be represented as a decision tree, as shown above. Using this decision tree, values can be easily predicted. By following the diagram above, a point with an $x_1$ of 50 and a $x_2$ of 200 will go along the right path twice. This will result in its predicted value being 1023.\n",
    "\n"
   ]
  },
  {
   "cell_type": "markdown",
   "metadata": {},
   "source": [
    "<hr>\n",
    "\n",
    "## Code\n",
    "\n",
    "__Setting up the dataset:__"
   ]
  },
  {
   "cell_type": "code",
   "execution_count": 1,
   "metadata": {},
   "outputs": [],
   "source": [
    "# Importing the libraries\n",
    "import numpy as np\n",
    "import matplotlib.pyplot as plt\n",
    "import pandas as pd\n",
    "\n",
    "# Importing the dataset\n",
    "dataset = pd.read_csv('Position_Salaries.csv')\n",
    "X = dataset.iloc[:, 1:2].values # Current indexing syntax retains the matrix dataype.\n",
    "y = dataset.iloc[:, 2].values"
   ]
  },
  {
   "cell_type": "markdown",
   "metadata": {},
   "source": [
    "<hr>\n",
    "\n",
    "__Fitting the Regression Model & Making a Prediction:__"
   ]
  },
  {
   "cell_type": "code",
   "execution_count": 2,
   "metadata": {},
   "outputs": [
    {
     "data": {
      "text/plain": [
       "array([150000.])"
      ]
     },
     "execution_count": 2,
     "metadata": {},
     "output_type": "execute_result"
    }
   ],
   "source": [
    "# Fitting the Regression Model to the dataset\n",
    "from sklearn.tree import DecisionTreeRegressor\n",
    "regressor = DecisionTreeRegressor(random_state = 0)  \n",
    "#'random_state' involves pseudo-randomness to get predicted results. Same randomness value will yield same results.\n",
    "regressor.fit(X, y)\n",
    "\n",
    "# Predicting a new result\n",
    "y_pred = regressor.predict(np.asmatrix(6.5))\n",
    "y_pred"
   ]
  },
  {
   "cell_type": "markdown",
   "metadata": {},
   "source": [
    "<hr>\n",
    "\n",
    "__Visual Training Results:__"
   ]
  },
  {
   "cell_type": "code",
   "execution_count": 3,
   "metadata": {},
   "outputs": [
    {
     "data": {
      "image/png": "[encoded data removed]",
      "text/plain": [
       "<Figure size 720x540 with 1 Axes>"
      ]
     },
     "metadata": {
      "needs_background": "light"
     },
     "output_type": "display_data"
    }
   ],
   "source": [
    "# Graph Scaling\n",
    "fig_size = plt.rcParams[\"figure.figsize\"]\n",
    "fig_size[0] = 10\n",
    "fig_size[1] = 7.5\n",
    "\n",
    "# Visualising the Regression results\n",
    "X_grid = np.arange(min(X), max(X), 0.001)\n",
    "X_grid = X_grid.reshape((len(X_grid), 1))\n",
    "plt.scatter(X, y, color = 'red')\n",
    "plt.plot(X_grid, regressor.predict(X_grid), color = 'blue')\n",
    "plt.title('Truth or Bluff (Decision Tree Regression)')\n",
    "plt.xlabel('Position level')\n",
    "plt.ylabel('Salary')\n",
    "plt.show()"
   ]
  },
  {
   "cell_type": "markdown",
   "metadata": {},
   "source": [
    "__Note:__\n",
    "\n",
    "The graph above shows why decision tree regression isn't a great model when dealing with 1-D data, or a single predictor dataset. The entire interval of values between each integer ends up containing the same value as the integer itself. That said, the model would definitely work great with datasets that contain more predictors."
   ]
  }
 ],
 "metadata": {
  "kernelspec": {
   "display_name": "Python 3",
   "language": "python",
   "name": "python3"
  },
  "language_info": {
   "codemirror_mode": {
    "name": "ipython",
    "version": 3
   },
   "file_extension": ".py",
   "mimetype": "text/x-python",
   "name": "python",
   "nbconvert_exporter": "python",
   "pygments_lexer": "ipython3",
   "version": "3.7.6"
  }
 },
 "nbformat": 4,
 "nbformat_minor": 2
}
