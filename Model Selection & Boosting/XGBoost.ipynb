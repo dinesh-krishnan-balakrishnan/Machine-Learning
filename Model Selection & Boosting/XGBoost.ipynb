{
 "cells": [
  {
   "cell_type": "markdown",
   "metadata": {},
   "source": [
    "# XGBoost\n",
    "\n",
    "__XGBoost__ stands for __eXtreme Gradient Boost__, and is one of the most popular machine learning algorithms used till date. As the name implies, it is a _Gradient Boosting_ algorithm. A gradient boosting algorithm is a technique used for classification and regression problems which produces an _ensemble_. An _ensemble_ is a group of weak prediction models that are combined to form a strong prediction model. __XGBoost__ is a fantastic algorithm because it requires a relatively low amount of processing power and yields strong performance results. <br>\n",
    "\n",
    "A very simple explanation for the algorithm is that it iteratively develops a _CART_ tree, where every child _CART_ tree accounts for the errors of it's parental _CART_ tree.\n",
    "\n",
    "### Anaconda Installation\n",
    "\n",
    "```bash\n",
    "    conda install -c anaconda py-xgboost\n",
    "```\n",
    "\n",
    "<hr>\n",
    "\n",
    "## Code\n",
    "\n",
    "__Setting up the Dataset:__\n",
    "\n",
    "_Note:_ Feature Scaling isn't required when performing XGBoost."
   ]
  },
  {
   "cell_type": "code",
   "execution_count": 1,
   "metadata": {},
   "outputs": [],
   "source": [
    "import numpy as py\n",
    "import matplotlib.pyplot as plt\n",
    "import pandas as pd\n",
    "\n",
    "dataset = pd.read_csv('Churn_Modelling.csv')\n",
    "X = dataset.iloc[:, 3:13].values\n",
    "y = dataset.iloc[:, 13].values\n",
    "\n",
    "from sklearn.preprocessing import OneHotEncoder, LabelEncoder\n",
    "from sklearn.compose import ColumnTransformer\n",
    "from sklearn.model_selection import train_test_split\n",
    "\n",
    "# Transform gender descriptions to values 0 and 1.\n",
    "X[:, 2] = LabelEncoder().fit_transform(X[:, 2])\n",
    "\n",
    "# Perform dummy encoding on country descriptions.\n",
    "ct = ColumnTransformer([('one_hot_encoder', OneHotEncoder(categories = 'auto'), [4])], remainder = 'passthrough')\n",
    "X = ct.fit_transform(X)\n",
    "\n",
    "# Prevent the dummy variable trap. \n",
    "X = X[:, 1:]\n",
    "\n",
    "# Split the dataset into the training and test sets.\n",
    "X_train, X_test, y_train, y_test = train_test_split(X, y, test_size = 0.2, random_state = 0)"
   ]
  },
  {
   "cell_type": "markdown",
   "metadata": {},
   "source": [
    "<hr>\n",
    "\n",
    "__Fitting the Classifier & Making Predictions:__"
   ]
  },
  {
   "cell_type": "code",
   "execution_count": 2,
   "metadata": {},
   "outputs": [
    {
     "data": {
      "text/plain": [
       "array([[1521,   74],\n",
       "       [ 197,  208]], dtype=int64)"
      ]
     },
     "execution_count": 2,
     "metadata": {},
     "output_type": "execute_result"
    }
   ],
   "source": [
    "from xgboost import XGBClassifier\n",
    "classifier = XGBClassifier()\n",
    "classifier.fit(X_train, y_train)\n",
    "\n",
    "y_pred = classifier.predict(X_test)\n",
    "\n",
    "from sklearn.metrics import confusion_matrix\n",
    "cm = confusion_matrix(y_test, y_pred)\n",
    "\n",
    "cm"
   ]
  },
  {
   "cell_type": "markdown",
   "metadata": {},
   "source": [
    "<hr>\n",
    "\n",
    "__Performing k-Fold Cross Validation:__"
   ]
  },
  {
   "cell_type": "code",
   "execution_count": 3,
   "metadata": {},
   "outputs": [
    {
     "name": "stdout",
     "output_type": "stream",
     "text": [
      "[0.87    0.855   0.87875 0.8725  0.86    0.8525  0.865   0.85    0.84875\n",
      " 0.8725 ]\n",
      "Mean: 0.8625\n",
      "Standard Deviation: 0.01017042280340401\n"
     ]
    }
   ],
   "source": [
    "from sklearn.model_selection import cross_val_score\n",
    "accuracies = cross_val_score(estimator = classifier, X = X_train, y = y_train, cv = 10)\n",
    "\n",
    "print(accuracies)\n",
    "print('Mean: ' + str(accuracies.mean()))\n",
    "print('Standard Deviation: ' + str(accuracies.std()))"
   ]
  }
 ],
 "metadata": {
  "kernelspec": {
   "display_name": "Python 3",
   "language": "python",
   "name": "python3"
  },
  "language_info": {
   "codemirror_mode": {
    "name": "ipython",
    "version": 3
   },
   "file_extension": ".py",
   "mimetype": "text/x-python",
   "name": "python",
   "nbconvert_exporter": "python",
   "pygments_lexer": "ipython3",
   "version": "3.7.6"
  }
 },
 "nbformat": 4,
 "nbformat_minor": 4
}
