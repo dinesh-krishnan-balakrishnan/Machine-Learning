{
 "cells": [
  {
   "cell_type": "markdown",
   "metadata": {},
   "source": [
    "# Apriori\n",
    "\n",
    "Association Rule Learning consists of methodology used to discover relationships between variables, one of these methods being Apriori.  Apriori stands for __A Priori__, which is latin for _from the former_. This is fitting as Apriori determines whether one circumstance is viable based on another. From a business perspective, it can be thought of as:\n",
    "\n",
    "> \"People who bought also bought...\" \n",
    "\n",
    "Essentially, Apriori forms connections between seemingly unrelated variables in a dataset.\n",
    "\n",
    "## Definitions\n",
    "\n",
    "1. __Support:__ The % of circumstances where X is true, represented as a basic fraction.\n",
    "\n",
    "$$\\large support(x) = \\frac{\\text{# of X Instances}}{\\text{# of Total Instances}} $$\n",
    "\n",
    "2. __Confidence:__ The % of circumstances that Y is true, when X is true.\n",
    "\n",
    "$$\\large \\mathit{confidence}(X \\to Y) = \\frac{\\text{# of X & Y Instances}}{\\text{# of X Instances}} $$\n",
    "\n",
    "3. __Lift:__ While applied to many machine learning models, lift in relation to the Apriori algorithm is a numerical representation of how effective a connection between two variables is. In terms of the formula, it represents how much better the chances are to get Y when choosing from datapoints containing X than choosing from all datapoints.\n",
    "\n",
    "$$\\large \\mathit{lift}(X \\to Y) = \\frac{\\mathit{confidence}(X \\to Y)}{support(X)} $$\n",
    "\n",
    "## Algorithm\n",
    "\n",
    "1. Set a minimum support and confidence; this is to prevent weak correlations from being considered and wasting computational power. \n",
    "\n",
    "2. Generate all subsets from the dataset that pass the minimum support qualification.\n",
    "3. Generate all rules _(connections)_ from the dataset that pass the minimum confidence qualification.\n",
    "4. Sort all rules by decreasing lift so that the most important connection can be considered first. \n",
    "\n",
    "<hr>\n",
    "\n",
    "## Code\n",
    "\n",
    "__Setting up the Dataset:__"
   ]
  },
  {
   "cell_type": "code",
   "execution_count": 1,
   "metadata": {},
   "outputs": [],
   "source": [
    "import numpy as np\n",
    "import matplotlib.pyplot as plt\n",
    "import pandas as pd\n",
    "\n",
    "dataset = pd.read_csv('market_basket_optimization.csv', header = None)"
   ]
  },
  {
   "cell_type": "markdown",
   "metadata": {},
   "source": [
    "__NOTE:__ The dataset is different than those currently seen, as it is a _CSV_ file which contains a list of purchases from a grocery store. Each row is a set of purchases made from one buyer, each column containing one item bought. The first line shouldn't be treated as a header because it also contains a set of purchases from a buyer. \n",
    "\n",
    "<hr>\n",
    "\n",
    "__Performing Apriori:__"
   ]
  },
  {
   "cell_type": "code",
   "execution_count": 2,
   "metadata": {},
   "outputs": [],
   "source": [
    "#All elements should be of the same string type, factoring in NaN values.\n",
    "filtered_dataset = [[str(element) for element in dataset.values[row]] for row in dataset.index]\n",
    "\n",
    "#The apyori algorithm isn't available through the current data science libraries and is instead taken from PyPi.\n",
    "from apyori import apriori\n",
    "rules = apriori(filtered_dataset, min_support = ((3 * 7) / 5000), min_confidence = 0.2, \n",
    "                min_lift = 3, min_length = 2, max_length = 2)"
   ]
  },
  {
   "cell_type": "markdown",
   "metadata": {},
   "source": [
    "__Reasoning:__\n",
    "* _Minimum Support_ : The items chosen should be bought at least 3 times a day. This is multiplied by 7 so that the item chosen should be bought at least 21 times per week. The support value should then be (# of X item) / (# of total items), the total item count being around 5000 items bought per week.\n",
    "\n",
    "\n",
    "* _Minimum Confidence & Lift_ : The current Apriori algorithm filters and sorts connections by all three factors: *support*, *confidence*, and _lift_. 0.2 and 3 were chosen as significant values for the minimum confidence and lift respectively.\n",
    "\n",
    "\n",
    "* _Minimum Length & Maximum Length_ : No relationship should be determined from a purchase consisting of a single item. For now, we're only paying attention to relationships between two items.\n",
    "\n",
    "\n",
    "<hr>\n",
    "\n",
    "__Visualizing the Results:__"
   ]
  },
  {
   "cell_type": "code",
   "execution_count": 3,
   "metadata": {},
   "outputs": [
    {
     "name": "stdout",
     "output_type": "stream",
     "text": [
      "RelationRecord(items=frozenset({'chicken', 'light cream'}), support=0.004532728969470737, ordered_statistics=[OrderedStatistic(items_base=frozenset({'light cream'}), items_add=frozenset({'chicken'}), confidence=0.29059829059829057, lift=4.84395061728395)])\n",
      "RelationRecord(items=frozenset({'mushroom cream sauce', 'escalope'}), support=0.005732568990801226, ordered_statistics=[OrderedStatistic(items_base=frozenset({'mushroom cream sauce'}), items_add=frozenset({'escalope'}), confidence=0.3006993006993007, lift=3.790832696715049)])\n",
      "RelationRecord(items=frozenset({'pasta', 'escalope'}), support=0.005865884548726837, ordered_statistics=[OrderedStatistic(items_base=frozenset({'pasta'}), items_add=frozenset({'escalope'}), confidence=0.3728813559322034, lift=4.700811850163794)])\n",
      "RelationRecord(items=frozenset({'herb & pepper', 'ground beef'}), support=0.015997866951073192, ordered_statistics=[OrderedStatistic(items_base=frozenset({'herb & pepper'}), items_add=frozenset({'ground beef'}), confidence=0.3234501347708895, lift=3.2919938411349285)])\n",
      "RelationRecord(items=frozenset({'ground beef', 'tomato sauce'}), support=0.005332622317024397, ordered_statistics=[OrderedStatistic(items_base=frozenset({'tomato sauce'}), items_add=frozenset({'ground beef'}), confidence=0.3773584905660377, lift=3.840659481324083)])\n",
      "RelationRecord(items=frozenset({'whole wheat pasta', 'olive oil'}), support=0.007998933475536596, ordered_statistics=[OrderedStatistic(items_base=frozenset({'whole wheat pasta'}), items_add=frozenset({'olive oil'}), confidence=0.2714932126696833, lift=4.122410097642296)])\n"
     ]
    }
   ],
   "source": [
    "results = list(rules)\n",
    "\n",
    "# Printing the top 5 most viable correlations (For demonstration simplicity):\n",
    "for result in range(6):\n",
    "    print(results[result])"
   ]
  },
  {
   "cell_type": "markdown",
   "metadata": {},
   "source": [
    "- - - - \n",
    "\n",
    "__Visualizing the Results (Clean Format):__"
   ]
  },
  {
   "cell_type": "code",
   "execution_count": 4,
   "metadata": {},
   "outputs": [
    {
     "data": {
      "text/html": [
       "<div>\n",
       "<style scoped>\n",
       "    .dataframe tbody tr th:only-of-type {\n",
       "        vertical-align: middle;\n",
       "    }\n",
       "\n",
       "    .dataframe tbody tr th {\n",
       "        vertical-align: top;\n",
       "    }\n",
       "\n",
       "    .dataframe thead th {\n",
       "        text-align: right;\n",
       "    }\n",
       "</style>\n",
       "<table border=\"1\" class=\"dataframe\">\n",
       "  <thead>\n",
       "    <tr style=\"text-align: right;\">\n",
       "      <th></th>\n",
       "      <th>Left Hand Side</th>\n",
       "      <th>Right Hand Side</th>\n",
       "      <th>Support</th>\n",
       "      <th>Confidence</th>\n",
       "      <th>Lift</th>\n",
       "    </tr>\n",
       "  </thead>\n",
       "  <tbody>\n",
       "    <tr>\n",
       "      <th>0</th>\n",
       "      <td>light cream</td>\n",
       "      <td>chicken</td>\n",
       "      <td>0.004533</td>\n",
       "      <td>0.290598</td>\n",
       "      <td>4.843951</td>\n",
       "    </tr>\n",
       "    <tr>\n",
       "      <th>2</th>\n",
       "      <td>pasta</td>\n",
       "      <td>escalope</td>\n",
       "      <td>0.005866</td>\n",
       "      <td>0.372881</td>\n",
       "      <td>4.700812</td>\n",
       "    </tr>\n",
       "    <tr>\n",
       "      <th>6</th>\n",
       "      <td>pasta</td>\n",
       "      <td>shrimp</td>\n",
       "      <td>0.005066</td>\n",
       "      <td>0.322034</td>\n",
       "      <td>4.506672</td>\n",
       "    </tr>\n",
       "    <tr>\n",
       "      <th>5</th>\n",
       "      <td>whole wheat pasta</td>\n",
       "      <td>olive oil</td>\n",
       "      <td>0.007999</td>\n",
       "      <td>0.271493</td>\n",
       "      <td>4.122410</td>\n",
       "    </tr>\n",
       "    <tr>\n",
       "      <th>4</th>\n",
       "      <td>tomato sauce</td>\n",
       "      <td>ground beef</td>\n",
       "      <td>0.005333</td>\n",
       "      <td>0.377358</td>\n",
       "      <td>3.840659</td>\n",
       "    </tr>\n",
       "    <tr>\n",
       "      <th>1</th>\n",
       "      <td>mushroom cream sauce</td>\n",
       "      <td>escalope</td>\n",
       "      <td>0.005733</td>\n",
       "      <td>0.300699</td>\n",
       "      <td>3.790833</td>\n",
       "    </tr>\n",
       "    <tr>\n",
       "      <th>3</th>\n",
       "      <td>herb &amp; pepper</td>\n",
       "      <td>ground beef</td>\n",
       "      <td>0.015998</td>\n",
       "      <td>0.323450</td>\n",
       "      <td>3.291994</td>\n",
       "    </tr>\n",
       "  </tbody>\n",
       "</table>\n",
       "</div>"
      ],
      "text/plain": [
       "         Left Hand Side Right Hand Side   Support  Confidence      Lift\n",
       "0           light cream         chicken  0.004533    0.290598  4.843951\n",
       "2                 pasta        escalope  0.005866    0.372881  4.700812\n",
       "6                 pasta          shrimp  0.005066    0.322034  4.506672\n",
       "5     whole wheat pasta       olive oil  0.007999    0.271493  4.122410\n",
       "4          tomato sauce     ground beef  0.005333    0.377358  3.840659\n",
       "1  mushroom cream sauce        escalope  0.005733    0.300699  3.790833\n",
       "3         herb & pepper     ground beef  0.015998    0.323450  3.291994"
      ]
     },
     "execution_count": 4,
     "metadata": {},
     "output_type": "execute_result"
    }
   ],
   "source": [
    "def inspect(results):\n",
    "    lhs         = [tuple(result[2][0][0])[0] for result in results]\n",
    "    rhs         = [tuple(result[2][0][1])[0] for result in results]\n",
    "    supports    = [result[1] for result in results]\n",
    "    confidences = [result[2][0][2] for result in results]\n",
    "    lifts       = [result[2][0][3] for result in results]\n",
    "    return list(zip(lhs, rhs, supports, confidences, lifts))\n",
    "\n",
    "results = pd.DataFrame(inspect(results), columns = ['Left Hand Side', 'Right Hand Side', 'Support', 'Confidence', 'Lift'])\n",
    "results.nlargest(n = 10, columns = 'Lift')"
   ]
  }
 ],
 "metadata": {
  "kernelspec": {
   "display_name": "Python 3",
   "language": "python",
   "name": "python3"
  },
  "language_info": {
   "codemirror_mode": {
    "name": "ipython",
    "version": 3
   },
   "file_extension": ".py",
   "mimetype": "text/x-python",
   "name": "python",
   "nbconvert_exporter": "python",
   "pygments_lexer": "ipython3",
   "version": "3.7.6"
  }
 },
 "nbformat": 4,
 "nbformat_minor": 2
}
