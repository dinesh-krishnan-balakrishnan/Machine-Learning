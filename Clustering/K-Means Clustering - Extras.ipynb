{
 "cells": [
  {
   "cell_type": "markdown",
   "metadata": {},
   "source": [
    "# Implementing K-Means Clustering\n",
    "\n",
    "## Random Initialization Trap\n",
    "\n",
    "After choosing random points in a dataset, it is possible for these random datapoints to cluster in an unexpected way and create classifications that may not be very useful. \n",
    "\n",
    "<img src=\"incorrectClustering.png\" alt=\"Incorrect clustering of datapoints.\" width=\"500px;\"/>\n",
    "\n",
    "To prevent such clustering from happening, the __K-Means++__ algorithm was developed. <br>\n",
    "\n",
    "__Steps:__\n",
    "1. Choose a K number of centroids.\n",
    "\n",
    "2. Randomly select the first centroid from the available datapoints.\n",
    "\n",
    "3. For each datapoint, compute its distance to the nearest datapoint.\n",
    "\n",
    "4. Select another centroid from the available datapoints so that the probability of choosing a datapoint is directly proportional to its distance from the nearest centroid.\n",
    "\n",
    "5. Repeat steps 3 and 4 for the remaining K number of centroids.\n",
    "\n",
    "The __K-Means++__ algorithm is already implemented in sklearn and R, so there is no need to manually recreate the algorithm.\n",
    "\n",
    "<hr>\n",
    "\n",
    "## Choosing # of Clusters\n",
    "\n",
    "Similar to the __Sum of Squares__ algorithm, there also exists the __Within Clusters Sum of Squares__ algorithm. The algorithm is as follows:\n",
    "\n",
    "$$\\huge WCSS = \\sum_{C=1}^K(\\LARGE\\sum_{P=1}^{n_C}(distance(P_i, C_i))$$\n",
    "\n",
    "__Where:__\n",
    "* __K__: The total number of clusters.\n",
    "* __C__: The current centroid\n",
    "* __P__: The current datapoint.\n",
    "* $\\mathbf n_C$: The total number of datapoints which were closer to the current centroid.\n",
    "\n",
    "Essentially, __WCSS__ is the sum of the distances between datapoints and their closest centroid. Here is an example of a graph showing the differences in the __WCSS__ for a dataset, based on the number of clusters.\n",
    "\n",
    "<img src=\"WCSS.png\" alt=\"Graph showing relation between the # of clusters and the WCSS\" width=\"700px;\"/>\n",
    "\n",
    "While there are initially large reductions in the __WCSS__ as the number of clusters increase, the graph ends up plateauing. Because the plateauing starts after the 3<sup>rd</sup> cluster, the # of clusters to choose for the specified dataset is 3. The methodology followed is called the _Elbow Method._"
   ]
  }
 ],
 "metadata": {
  "kernelspec": {
   "display_name": "Python 3",
   "language": "python",
   "name": "python3"
  },
  "language_info": {
   "codemirror_mode": {
    "name": "ipython",
    "version": 3
   },
   "file_extension": ".py",
   "mimetype": "text/x-python",
   "name": "python",
   "nbconvert_exporter": "python",
   "pygments_lexer": "ipython3",
   "version": "3.7.6"
  }
 },
 "nbformat": 4,
 "nbformat_minor": 2
}
